{
 "cells": [
  {
   "cell_type": "code",
   "execution_count": 1,
   "id": "forbidden-likelihood",
   "metadata": {
    "executionCancelledAt": null,
    "executionTime": 536,
    "lastExecutedAt": 1742683052982,
    "lastExecutedByKernel": "694974fc-002c-4004-9195-8d68c2cef626",
    "lastScheduledRunId": null,
    "lastSuccessfullyExecutedCode": "# Start coding here...",
    "vscode": {
     "languageId": "r"
    }
   },
   "outputs": [],
   "source": [
    "# Start coding here..."
   ]
  },
  {
   "cell_type": "code",
   "execution_count": null,
   "id": "8cb70a6f-a151-4fa0-a4eb-80d945be646c",
   "metadata": {
    "collapsed": true,
    "executionCancelledAt": null,
    "executionTime": null,
    "jupyter": {
     "outputs_hidden": true,
     "source_hidden": false
    },
    "lastExecutedAt": null,
    "lastExecutedByKernel": null,
    "lastScheduledRunId": null,
    "lastSuccessfullyExecutedCode": null,
    "outputsMetadata": {
     "0": {
      "height": 311,
      "type": "stream"
     }
    },
    "vscode": {
     "languageId": "r"
    }
   },
   "outputs": [],
   "source": [
    "if (! require(\"tidyverse\")) {install.packages(\"tidyverse\") & library(\"tidyverse\")}\n",
    "if (! require(\"ggplot2\")) {install.packages(\"ggplot2\") & library(\"ggplot2\")}\n",
    "if (! require(\"patchwork\")) {install.packages(\"patchwork\") & library(\"patchwork\")}\n",
    "messages = FALSE"
   ]
  },
  {
   "cell_type": "code",
   "execution_count": 3,
   "id": "1dc3889c-b7af-479e-a180-85a3e7ca0221",
   "metadata": {
    "executionCancelledAt": null,
    "executionTime": 88,
    "lastExecutedAt": 1742683053842,
    "lastExecutedByKernel": "694974fc-002c-4004-9195-8d68c2cef626",
    "lastScheduledRunId": null,
    "lastSuccessfullyExecutedCode": "ZapA <- read.delim(\"GFP Results_ZapA.txt\", header=TRUE,sep=\"\\t\",dec='.')",
    "vscode": {
     "languageId": "r"
    }
   },
   "outputs": [],
   "source": [
    "ZapA <- read.delim(\"GFP Results_ZapA.txt\", header=TRUE,sep=\"\\t\",dec='.')"
   ]
  },
  {
   "cell_type": "code",
   "execution_count": 4,
   "id": "54faa3cb-8176-40c2-a540-5480f7451b0f",
   "metadata": {
    "executionCancelledAt": null,
    "executionTime": 66,
    "lastExecutedAt": 1742683053910,
    "lastExecutedByKernel": "694974fc-002c-4004-9195-8d68c2cef626",
    "lastScheduledRunId": null,
    "lastSuccessfullyExecutedCode": "head(ZapA)",
    "outputsMetadata": {
     "0": {
      "height": 50,
      "tableState": {
       "customFilter": {
        "const": {
         "type": "boolean",
         "valid": true,
         "value": true
        },
        "id": "ea4105af-b799-4857-a498-246f35c2133a",
        "nodeType": "const"
       },
       "quickFilterText": ""
      },
      "type": "dataFrame"
     }
    },
    "vscode": {
     "languageId": "r"
    }
   },
   "outputs": [
    {
     "data": {
      "application/com.datacamp.data-table.v2+json": {
       "table": {
        "data": {
         "Age": [
          75.6074,
          17.1112,
          61.8571,
          46.6568,
          6.8018,
          23.67
         ],
         "AgeDia": [
          27.0648,
          58.9716,
          22.556,
          90.8078,
          44.0573,
          96.2525
         ],
         "Area": [
          3.0238,
          2.2914,
          2.8868,
          2.8782,
          2.043,
          2.4927
         ],
         "Axis": [
          3.5502,
          2.6472,
          3.427,
          3.1342,
          2.4205,
          2.7141
         ],
         "ConcCenter": [
          18.1332,
          13.5252,
          7.8689,
          12.7785,
          6.5644,
          8.2115
         ],
         "ConcOffCenter": [
          8.7322,
          8.1097,
          5.1796,
          7.8291,
          5.0686,
          6.452
         ],
         "ConcTotal": [
          10.7667,
          9.8876,
          5.8449,
          9.3617,
          5.6431,
          7.0895
         ],
         "ConcWall": [
          2.0759,
          1.9675,
          1.1769,
          1.9703,
          1.1213,
          1.4499
         ],
         "Dia": [
          0.9008,
          0.9367,
          0.8922,
          0.9847,
          0.9189,
          0.997
         ],
         "FCPlus": [
          3.9414,
          2.7558,
          1.287,
          3.1269,
          0.7978,
          1.1082
         ],
         "FlChannel": [
          2,
          2,
          2,
          2,
          2,
          2
         ],
         "FluorCenter": [
          7.6024,
          6.8826,
          3.7658,
          8.0733,
          3.5008,
          5.1719
         ],
         "FluorPole": [
          2.6497,
          3.1564,
          1.3857,
          3.2482,
          1.9952,
          2.8261
         ],
         "FluorTotal": [
          20.8562,
          15.3278,
          11.3053,
          19.1034,
          7.8354,
          12.3265
         ],
         "MaxDia": [
          0.9132,
          0.985,
          0.934,
          1.0206,
          0.9679,
          1.0255
         ],
         "MinDiaCenter": [
          0.7581,
          0.8948,
          0.8555,
          0.9395,
          0.9136,
          0.9391
         ],
         "RingFraction": [
          18.898,
          17.9791,
          11.384,
          16.3683,
          10.182,
          8.9904
         ],
         "Thr": [
          3754.9766,
          3754.9766,
          3754.9766,
          3754.9766,
          3754.9766,
          3754.9766
         ],
         "VolCenter": [
          0.4193,
          0.5089,
          0.4786,
          0.6318,
          0.5333,
          0.6298
         ],
         "Volume": [
          1.9371,
          1.5502,
          1.9342,
          2.0406,
          1.3885,
          1.7387
         ],
         "WallArea": [
          10.0467,
          7.7903,
          9.6058,
          9.6959,
          6.9876,
          8.5014
         ],
         "index": [
          "1",
          "2",
          "3",
          "4",
          "5",
          "6"
         ],
         "n": [
          1,
          2,
          3,
          4,
          5,
          6
         ],
         "startX": [
          850,
          836,
          167,
          897,
          233,
          72
         ],
         "startY": [
          169,
          404,
          570,
          633,
          634,
          638
         ]
        },
        "schema": {
         "fields": [
          {
           "name": "index",
           "type": "string"
          },
          {
           "name": "n",
           "type": "integer"
          },
          {
           "name": "Axis",
           "type": "number"
          },
          {
           "name": "Dia",
           "type": "number"
          },
          {
           "name": "Thr",
           "type": "number"
          },
          {
           "name": "startX",
           "type": "number"
          },
          {
           "name": "startY",
           "type": "number"
          },
          {
           "name": "Volume",
           "type": "number"
          },
          {
           "name": "Age",
           "type": "number"
          },
          {
           "name": "Area",
           "type": "number"
          },
          {
           "name": "MinDiaCenter",
           "type": "number"
          },
          {
           "name": "MaxDia",
           "type": "number"
          },
          {
           "name": "VolCenter",
           "type": "number"
          },
          {
           "name": "FlChannel",
           "type": "integer"
          },
          {
           "name": "FluorTotal",
           "type": "number"
          },
          {
           "name": "FluorCenter",
           "type": "number"
          },
          {
           "name": "FluorPole",
           "type": "number"
          },
          {
           "name": "ConcCenter",
           "type": "number"
          },
          {
           "name": "ConcOffCenter",
           "type": "number"
          },
          {
           "name": "FCPlus",
           "type": "number"
          },
          {
           "name": "AgeDia",
           "type": "number"
          },
          {
           "name": "RingFraction",
           "type": "number"
          },
          {
           "name": "ConcTotal",
           "type": "number"
          },
          {
           "name": "WallArea",
           "type": "number"
          },
          {
           "name": "ConcWall",
           "type": "number"
          }
         ],
         "pandas_version": "0.20.0",
         "primaryKey": [
          "index"
         ]
        }
       },
       "total_rows": 6,
       "truncation_type": null
      },
      "text/html": [
       "<table class=\"dataframe\">\n",
       "<caption>A data.frame: 6 × 24</caption>\n",
       "<thead>\n",
       "\t<tr><th></th><th scope=col>n</th><th scope=col>Axis</th><th scope=col>Dia</th><th scope=col>Thr</th><th scope=col>startX</th><th scope=col>startY</th><th scope=col>Volume</th><th scope=col>Age</th><th scope=col>Area</th><th scope=col>MinDiaCenter</th><th scope=col>⋯</th><th scope=col>FluorCenter</th><th scope=col>FluorPole</th><th scope=col>ConcCenter</th><th scope=col>ConcOffCenter</th><th scope=col>FCPlus</th><th scope=col>AgeDia</th><th scope=col>RingFraction</th><th scope=col>ConcTotal</th><th scope=col>WallArea</th><th scope=col>ConcWall</th></tr>\n",
       "\t<tr><th></th><th scope=col>&lt;int&gt;</th><th scope=col>&lt;dbl&gt;</th><th scope=col>&lt;dbl&gt;</th><th scope=col>&lt;dbl&gt;</th><th scope=col>&lt;dbl&gt;</th><th scope=col>&lt;dbl&gt;</th><th scope=col>&lt;dbl&gt;</th><th scope=col>&lt;dbl&gt;</th><th scope=col>&lt;dbl&gt;</th><th scope=col>&lt;dbl&gt;</th><th scope=col>⋯</th><th scope=col>&lt;dbl&gt;</th><th scope=col>&lt;dbl&gt;</th><th scope=col>&lt;dbl&gt;</th><th scope=col>&lt;dbl&gt;</th><th scope=col>&lt;dbl&gt;</th><th scope=col>&lt;dbl&gt;</th><th scope=col>&lt;dbl&gt;</th><th scope=col>&lt;dbl&gt;</th><th scope=col>&lt;dbl&gt;</th><th scope=col>&lt;dbl&gt;</th></tr>\n",
       "</thead>\n",
       "<tbody>\n",
       "\t<tr><th scope=row>1</th><td>1</td><td>3.5502</td><td>0.9008</td><td>3754.977</td><td>850</td><td>169</td><td>1.9371</td><td>75.6074</td><td>3.0238</td><td>0.7581</td><td>⋯</td><td>7.6024</td><td>2.6497</td><td>18.1332</td><td>8.7322</td><td>3.9414</td><td>27.0648</td><td>18.8980</td><td>10.7667</td><td>10.0467</td><td>2.0759</td></tr>\n",
       "\t<tr><th scope=row>2</th><td>2</td><td>2.6472</td><td>0.9367</td><td>3754.977</td><td>836</td><td>404</td><td>1.5502</td><td>17.1112</td><td>2.2914</td><td>0.8948</td><td>⋯</td><td>6.8826</td><td>3.1564</td><td>13.5252</td><td>8.1097</td><td>2.7558</td><td>58.9716</td><td>17.9791</td><td> 9.8876</td><td> 7.7903</td><td>1.9675</td></tr>\n",
       "\t<tr><th scope=row>3</th><td>3</td><td>3.4270</td><td>0.8922</td><td>3754.977</td><td>167</td><td>570</td><td>1.9342</td><td>61.8571</td><td>2.8868</td><td>0.8555</td><td>⋯</td><td>3.7658</td><td>1.3857</td><td> 7.8689</td><td>5.1796</td><td>1.2870</td><td>22.5560</td><td>11.3840</td><td> 5.8449</td><td> 9.6058</td><td>1.1769</td></tr>\n",
       "\t<tr><th scope=row>4</th><td>4</td><td>3.1342</td><td>0.9847</td><td>3754.977</td><td>897</td><td>633</td><td>2.0406</td><td>46.6568</td><td>2.8782</td><td>0.9395</td><td>⋯</td><td>8.0733</td><td>3.2482</td><td>12.7785</td><td>7.8291</td><td>3.1269</td><td>90.8078</td><td>16.3683</td><td> 9.3617</td><td> 9.6959</td><td>1.9703</td></tr>\n",
       "\t<tr><th scope=row>5</th><td>5</td><td>2.4205</td><td>0.9189</td><td>3754.977</td><td>233</td><td>634</td><td>1.3885</td><td> 6.8018</td><td>2.0430</td><td>0.9136</td><td>⋯</td><td>3.5008</td><td>1.9952</td><td> 6.5644</td><td>5.0686</td><td>0.7978</td><td>44.0573</td><td>10.1820</td><td> 5.6431</td><td> 6.9876</td><td>1.1213</td></tr>\n",
       "\t<tr><th scope=row>6</th><td>6</td><td>2.7141</td><td>0.9970</td><td>3754.977</td><td> 72</td><td>638</td><td>1.7387</td><td>23.6700</td><td>2.4927</td><td>0.9391</td><td>⋯</td><td>5.1719</td><td>2.8261</td><td> 8.2115</td><td>6.4520</td><td>1.1082</td><td>96.2525</td><td> 8.9904</td><td> 7.0895</td><td> 8.5014</td><td>1.4499</td></tr>\n",
       "</tbody>\n",
       "</table>\n"
      ],
      "text/latex": [
       "A data.frame: 6 × 24\n",
       "\\begin{tabular}{r|lllllllllllllllllllll}\n",
       "  & n & Axis & Dia & Thr & startX & startY & Volume & Age & Area & MinDiaCenter & ⋯ & FluorCenter & FluorPole & ConcCenter & ConcOffCenter & FCPlus & AgeDia & RingFraction & ConcTotal & WallArea & ConcWall\\\\\n",
       "  & <int> & <dbl> & <dbl> & <dbl> & <dbl> & <dbl> & <dbl> & <dbl> & <dbl> & <dbl> & ⋯ & <dbl> & <dbl> & <dbl> & <dbl> & <dbl> & <dbl> & <dbl> & <dbl> & <dbl> & <dbl>\\\\\n",
       "\\hline\n",
       "\t1 & 1 & 3.5502 & 0.9008 & 3754.977 & 850 & 169 & 1.9371 & 75.6074 & 3.0238 & 0.7581 & ⋯ & 7.6024 & 2.6497 & 18.1332 & 8.7322 & 3.9414 & 27.0648 & 18.8980 & 10.7667 & 10.0467 & 2.0759\\\\\n",
       "\t2 & 2 & 2.6472 & 0.9367 & 3754.977 & 836 & 404 & 1.5502 & 17.1112 & 2.2914 & 0.8948 & ⋯ & 6.8826 & 3.1564 & 13.5252 & 8.1097 & 2.7558 & 58.9716 & 17.9791 &  9.8876 &  7.7903 & 1.9675\\\\\n",
       "\t3 & 3 & 3.4270 & 0.8922 & 3754.977 & 167 & 570 & 1.9342 & 61.8571 & 2.8868 & 0.8555 & ⋯ & 3.7658 & 1.3857 &  7.8689 & 5.1796 & 1.2870 & 22.5560 & 11.3840 &  5.8449 &  9.6058 & 1.1769\\\\\n",
       "\t4 & 4 & 3.1342 & 0.9847 & 3754.977 & 897 & 633 & 2.0406 & 46.6568 & 2.8782 & 0.9395 & ⋯ & 8.0733 & 3.2482 & 12.7785 & 7.8291 & 3.1269 & 90.8078 & 16.3683 &  9.3617 &  9.6959 & 1.9703\\\\\n",
       "\t5 & 5 & 2.4205 & 0.9189 & 3754.977 & 233 & 634 & 1.3885 &  6.8018 & 2.0430 & 0.9136 & ⋯ & 3.5008 & 1.9952 &  6.5644 & 5.0686 & 0.7978 & 44.0573 & 10.1820 &  5.6431 &  6.9876 & 1.1213\\\\\n",
       "\t6 & 6 & 2.7141 & 0.9970 & 3754.977 &  72 & 638 & 1.7387 & 23.6700 & 2.4927 & 0.9391 & ⋯ & 5.1719 & 2.8261 &  8.2115 & 6.4520 & 1.1082 & 96.2525 &  8.9904 &  7.0895 &  8.5014 & 1.4499\\\\\n",
       "\\end{tabular}\n"
      ],
      "text/markdown": [
       "\n",
       "A data.frame: 6 × 24\n",
       "\n",
       "| <!--/--> | n &lt;int&gt; | Axis &lt;dbl&gt; | Dia &lt;dbl&gt; | Thr &lt;dbl&gt; | startX &lt;dbl&gt; | startY &lt;dbl&gt; | Volume &lt;dbl&gt; | Age &lt;dbl&gt; | Area &lt;dbl&gt; | MinDiaCenter &lt;dbl&gt; | ⋯ ⋯ | FluorCenter &lt;dbl&gt; | FluorPole &lt;dbl&gt; | ConcCenter &lt;dbl&gt; | ConcOffCenter &lt;dbl&gt; | FCPlus &lt;dbl&gt; | AgeDia &lt;dbl&gt; | RingFraction &lt;dbl&gt; | ConcTotal &lt;dbl&gt; | WallArea &lt;dbl&gt; | ConcWall &lt;dbl&gt; |\n",
       "|---|---|---|---|---|---|---|---|---|---|---|---|---|---|---|---|---|---|---|---|---|---|\n",
       "| 1 | 1 | 3.5502 | 0.9008 | 3754.977 | 850 | 169 | 1.9371 | 75.6074 | 3.0238 | 0.7581 | ⋯ | 7.6024 | 2.6497 | 18.1332 | 8.7322 | 3.9414 | 27.0648 | 18.8980 | 10.7667 | 10.0467 | 2.0759 |\n",
       "| 2 | 2 | 2.6472 | 0.9367 | 3754.977 | 836 | 404 | 1.5502 | 17.1112 | 2.2914 | 0.8948 | ⋯ | 6.8826 | 3.1564 | 13.5252 | 8.1097 | 2.7558 | 58.9716 | 17.9791 |  9.8876 |  7.7903 | 1.9675 |\n",
       "| 3 | 3 | 3.4270 | 0.8922 | 3754.977 | 167 | 570 | 1.9342 | 61.8571 | 2.8868 | 0.8555 | ⋯ | 3.7658 | 1.3857 |  7.8689 | 5.1796 | 1.2870 | 22.5560 | 11.3840 |  5.8449 |  9.6058 | 1.1769 |\n",
       "| 4 | 4 | 3.1342 | 0.9847 | 3754.977 | 897 | 633 | 2.0406 | 46.6568 | 2.8782 | 0.9395 | ⋯ | 8.0733 | 3.2482 | 12.7785 | 7.8291 | 3.1269 | 90.8078 | 16.3683 |  9.3617 |  9.6959 | 1.9703 |\n",
       "| 5 | 5 | 2.4205 | 0.9189 | 3754.977 | 233 | 634 | 1.3885 |  6.8018 | 2.0430 | 0.9136 | ⋯ | 3.5008 | 1.9952 |  6.5644 | 5.0686 | 0.7978 | 44.0573 | 10.1820 |  5.6431 |  6.9876 | 1.1213 |\n",
       "| 6 | 6 | 2.7141 | 0.9970 | 3754.977 |  72 | 638 | 1.7387 | 23.6700 | 2.4927 | 0.9391 | ⋯ | 5.1719 | 2.8261 |  8.2115 | 6.4520 | 1.1082 | 96.2525 |  8.9904 |  7.0895 |  8.5014 | 1.4499 |\n",
       "\n"
      ],
      "text/plain": [
       "  n Axis   Dia    Thr      startX startY Volume Age     Area   MinDiaCenter ⋯\n",
       "1 1 3.5502 0.9008 3754.977 850    169    1.9371 75.6074 3.0238 0.7581       ⋯\n",
       "2 2 2.6472 0.9367 3754.977 836    404    1.5502 17.1112 2.2914 0.8948       ⋯\n",
       "3 3 3.4270 0.8922 3754.977 167    570    1.9342 61.8571 2.8868 0.8555       ⋯\n",
       "4 4 3.1342 0.9847 3754.977 897    633    2.0406 46.6568 2.8782 0.9395       ⋯\n",
       "5 5 2.4205 0.9189 3754.977 233    634    1.3885  6.8018 2.0430 0.9136       ⋯\n",
       "6 6 2.7141 0.9970 3754.977  72    638    1.7387 23.6700 2.4927 0.9391       ⋯\n",
       "  FluorCenter FluorPole ConcCenter ConcOffCenter FCPlus AgeDia  RingFraction\n",
       "1 7.6024      2.6497    18.1332    8.7322        3.9414 27.0648 18.8980     \n",
       "2 6.8826      3.1564    13.5252    8.1097        2.7558 58.9716 17.9791     \n",
       "3 3.7658      1.3857     7.8689    5.1796        1.2870 22.5560 11.3840     \n",
       "4 8.0733      3.2482    12.7785    7.8291        3.1269 90.8078 16.3683     \n",
       "5 3.5008      1.9952     6.5644    5.0686        0.7978 44.0573 10.1820     \n",
       "6 5.1719      2.8261     8.2115    6.4520        1.1082 96.2525  8.9904     \n",
       "  ConcTotal WallArea ConcWall\n",
       "1 10.7667   10.0467  2.0759  \n",
       "2  9.8876    7.7903  1.9675  \n",
       "3  5.8449    9.6058  1.1769  \n",
       "4  9.3617    9.6959  1.9703  \n",
       "5  5.6431    6.9876  1.1213  \n",
       "6  7.0895    8.5014  1.4499  "
      ]
     },
     "metadata": {},
     "output_type": "display_data"
    }
   ],
   "source": [
    "head(ZapA)"
   ]
  },
  {
   "cell_type": "code",
   "execution_count": 5,
   "id": "8fe02b76-f975-4598-bb1d-8e45d303d4f0",
   "metadata": {
    "collapsed": true,
    "executionCancelledAt": null,
    "executionTime": 48,
    "jupyter": {
     "outputs_hidden": true,
     "source_hidden": false
    },
    "lastExecutedAt": 1742683053958,
    "lastExecutedByKernel": "694974fc-002c-4004-9195-8d68c2cef626",
    "lastScheduledRunId": null,
    "lastSuccessfullyExecutedCode": "str(ZapA)",
    "outputsMetadata": {
     "0": {
      "height": 616,
      "type": "stream"
     }
    },
    "vscode": {
     "languageId": "r"
    }
   },
   "outputs": [
    {
     "name": "stdout",
     "output_type": "stream",
     "text": [
      "'data.frame':\t76 obs. of  24 variables:\n",
      " $ n            : int  1 2 3 4 5 6 7 8 9 10 ...\n",
      " $ Axis         : num  3.55 2.65 3.43 3.13 2.42 ...\n",
      " $ Dia          : num  0.901 0.937 0.892 0.985 0.919 ...\n",
      " $ Thr          : num  3755 3755 3755 3755 3755 ...\n",
      " $ startX       : num  850 836 167 897 233 ...\n",
      " $ startY       : num  169 404 570 633 634 638 661 661 699 700 ...\n",
      " $ Volume       : num  1.94 1.55 1.93 2.04 1.39 ...\n",
      " $ Age          : num  75.6 17.1 61.9 46.7 6.8 ...\n",
      " $ Area         : num  3.02 2.29 2.89 2.88 2.04 ...\n",
      " $ MinDiaCenter : num  0.758 0.895 0.856 0.94 0.914 ...\n",
      " $ MaxDia       : num  0.913 0.985 0.934 1.021 0.968 ...\n",
      " $ VolCenter    : num  0.419 0.509 0.479 0.632 0.533 ...\n",
      " $ FlChannel    : int  2 2 2 2 2 2 2 2 2 2 ...\n",
      " $ FluorTotal   : num  20.86 15.33 11.31 19.1 7.84 ...\n",
      " $ FluorCenter  : num  7.6 6.88 3.77 8.07 3.5 ...\n",
      " $ FluorPole    : num  2.65 3.16 1.39 3.25 2 ...\n",
      " $ ConcCenter   : num  18.13 13.53 7.87 12.78 6.56 ...\n",
      " $ ConcOffCenter: num  8.73 8.11 5.18 7.83 5.07 ...\n",
      " $ FCPlus       : num  3.941 2.756 1.287 3.127 0.798 ...\n",
      " $ AgeDia       : num  27.1 59 22.6 90.8 44.1 ...\n",
      " $ RingFraction : num  18.9 18 11.4 16.4 10.2 ...\n",
      " $ ConcTotal    : num  10.77 9.89 5.84 9.36 5.64 ...\n",
      " $ WallArea     : num  10.05 7.79 9.61 9.7 6.99 ...\n",
      " $ ConcWall     : num  2.08 1.97 1.18 1.97 1.12 ...\n"
     ]
    }
   ],
   "source": [
    "str(ZapA)"
   ]
  },
  {
   "cell_type": "code",
   "execution_count": 6,
   "id": "7d6b0db6-a0b5-4947-93d9-c06baf8878ce",
   "metadata": {
    "collapsed": true,
    "executionCancelledAt": null,
    "executionTime": 49,
    "jupyter": {
     "outputs_hidden": true,
     "source_hidden": false
    },
    "lastExecutedAt": 1742683054007,
    "lastExecutedByKernel": "694974fc-002c-4004-9195-8d68c2cef626",
    "lastScheduledRunId": null,
    "lastSuccessfullyExecutedCode": "summary(ZapA)",
    "vscode": {
     "languageId": "r"
    }
   },
   "outputs": [
    {
     "data": {
      "text/plain": [
       "       n              Axis            Dia              Thr      \n",
       " Min.   : 1.00   Min.   :1.362   Min.   :0.8121   Min.   :3755  \n",
       " 1st Qu.:19.75   1st Qu.:2.673   1st Qu.:0.8880   1st Qu.:3755  \n",
       " Median :38.50   Median :2.934   Median :0.9173   Median :4167  \n",
       " Mean   :38.50   Mean   :3.032   Mean   :0.9166   Mean   :4038  \n",
       " 3rd Qu.:57.25   3rd Qu.:3.452   3rd Qu.:0.9453   3rd Qu.:4223  \n",
       " Max.   :76.00   Max.   :4.402   Max.   :1.1039   Max.   :4223  \n",
       "     startX           startY           Volume            Age       \n",
       " Min.   :  72.0   Min.   :   3.0   Min.   :0.1486   Min.   : 0.00  \n",
       " 1st Qu.: 423.8   1st Qu.: 508.5   1st Qu.:1.4992   1st Qu.:18.99  \n",
       " Median : 715.5   Median : 719.0   Median :1.7185   Median :40.87  \n",
       " Mean   : 673.9   Mean   : 714.5   Mean   :1.7091   Mean   :43.61  \n",
       " 3rd Qu.: 905.5   3rd Qu.: 973.5   3rd Qu.:1.9506   3rd Qu.:66.67  \n",
       " Max.   :1276.0   Max.   :1234.0   Max.   :2.6097   Max.   :98.11  \n",
       "      Area        MinDiaCenter        MaxDia         VolCenter        FlChannel\n",
       " Min.   :1.242   Min.   :0.1936   Min.   :0.6446   Min.   :0.0632   Min.   :2  \n",
       " 1st Qu.:2.265   1st Qu.:0.7857   1st Qu.:0.9331   1st Qu.:0.4456   1st Qu.:2  \n",
       " Median :2.583   Median :0.8514   Median :0.9645   Median :0.5063   Median :2  \n",
       " Mean   :2.586   Mean   :0.8207   Mean   :0.9566   Mean   :0.4943   Mean   :2  \n",
       " 3rd Qu.:2.887   3rd Qu.:0.8726   3rd Qu.:0.9907   3rd Qu.:0.5403   3rd Qu.:2  \n",
       " Max.   :3.692   Max.   :0.9933   Max.   :1.0902   Max.   :0.6694   Max.   :2  \n",
       "   FluorTotal       FluorCenter       FluorPole        ConcCenter     \n",
       " Min.   : 0.0344   Min.   :0.0261   Min.   :0.0247   Min.   : 0.4131  \n",
       " 1st Qu.:10.8569   1st Qu.:4.1585   1st Qu.:1.7628   1st Qu.: 8.3961  \n",
       " Median :13.4866   Median :5.1131   Median :2.4015   Median :10.4651  \n",
       " Mean   :13.8725   Mean   :5.2482   Mean   :2.4088   Mean   :10.6426  \n",
       " 3rd Qu.:15.7595   3rd Qu.:6.2463   3rd Qu.:2.9844   3rd Qu.:12.4418  \n",
       " Max.   :27.9729   Max.   :9.7955   Max.   :4.0540   Max.   :18.5336  \n",
       " ConcOffCenter         FCPlus          AgeDia       RingFraction   \n",
       " Min.   : 0.0965   Min.   :0.020   Min.   : 0.00   Min.   : 1.339  \n",
       " 1st Qu.: 5.7047   1st Qu.:1.344   1st Qu.:18.99   1st Qu.:10.207  \n",
       " Median : 6.6943   Median :1.773   Median :40.87   Median :13.528  \n",
       " Mean   : 6.9308   Mean   :1.809   Mean   :43.61   Mean   :14.049  \n",
       " 3rd Qu.: 8.3379   3rd Qu.:2.266   3rd Qu.:66.67   3rd Qu.:16.677  \n",
       " Max.   :12.9110   Max.   :4.152   Max.   :98.11   Max.   :58.265  \n",
       "   ConcTotal          WallArea         ConcWall     \n",
       " Min.   : 0.2312   Min.   : 4.724   Min.   :0.0073  \n",
       " 1st Qu.: 6.3800   1st Qu.: 7.688   1st Qu.:1.2604  \n",
       " Median : 7.8075   Median : 8.711   Median :1.5169  \n",
       " Mean   : 7.9867   Mean   : 8.692   Mean   :1.5749  \n",
       " 3rd Qu.: 9.6138   3rd Qu.: 9.679   3rd Qu.:1.9368  \n",
       " Max.   :13.0861   Max.   :12.215   Max.   :2.6227  "
      ]
     },
     "metadata": {},
     "output_type": "display_data"
    }
   ],
   "source": [
    "summary(ZapA)"
   ]
  },
  {
   "cell_type": "code",
   "execution_count": 7,
   "id": "e5173d27-5099-4e31-be38-a6b0cba9f928",
   "metadata": {
    "executionCancelledAt": null,
    "executionTime": 208,
    "lastExecutedAt": 1742683054215,
    "lastExecutedByKernel": "694974fc-002c-4004-9195-8d68c2cef626",
    "lastScheduledRunId": null,
    "lastSuccessfullyExecutedCode": "hist_volume <- hist(ZapA$Volume)\nhist_fluortotal <- hist(ZapA$FluorTotal)\nhist_fluorcenter <- hist(scale(ZapA$FluorCenter,center=TRUE,scale=TRUE))\nhist_volume\nhist_fluortotal\nhist_fluorcenter",
    "vscode": {
     "languageId": "r"
    }
   },
   "outputs": [
    {
     "data": {
      "image/png": "[encoded data removed]",
      "text/plain": [
       "Plot with title “Histogram of ZapA$Volume”"
      ]
     },
     "metadata": {
      "image/png": {
       "height": 420,
       "width": 420
      }
     },
     "output_type": "display_data"
    },
    {
     "data": {
      "image/png": "[encoded data removed]",
      "text/plain": [
       "Plot with title “Histogram of ZapA$FluorTotal”"
      ]
     },
     "metadata": {
      "image/png": {
       "height": 420,
       "width": 420
      }
     },
     "output_type": "display_data"
    },
    {
     "data": {
      "text/plain": [
       "$breaks\n",
       "[1] 0.0 0.5 1.0 1.5 2.0 2.5 3.0\n",
       "\n",
       "$counts\n",
       "[1]  1  0 18 42 14  1\n",
       "\n",
       "$density\n",
       "[1] 0.02631579 0.00000000 0.47368421 1.10526316 0.36842105 0.02631579\n",
       "\n",
       "$mids\n",
       "[1] 0.25 0.75 1.25 1.75 2.25 2.75\n",
       "\n",
       "$xname\n",
       "[1] \"ZapA$Volume\"\n",
       "\n",
       "$equidist\n",
       "[1] TRUE\n",
       "\n",
       "attr(,\"class\")\n",
       "[1] \"histogram\""
      ]
     },
     "metadata": {},
     "output_type": "display_data"
    },
    {
     "data": {
      "text/plain": [
       "$breaks\n",
       "[1]  0  5 10 15 20 25 30\n",
       "\n",
       "$counts\n",
       "[1]  1 11 40 18  2  4\n",
       "\n",
       "$density\n",
       "[1] 0.002631579 0.028947368 0.105263158 0.047368421 0.005263158 0.010526316\n",
       "\n",
       "$mids\n",
       "[1]  2.5  7.5 12.5 17.5 22.5 27.5\n",
       "\n",
       "$xname\n",
       "[1] \"ZapA$FluorTotal\"\n",
       "\n",
       "$equidist\n",
       "[1] TRUE\n",
       "\n",
       "attr(,\"class\")\n",
       "[1] \"histogram\""
      ]
     },
     "metadata": {},
     "output_type": "display_data"
    },
    {
     "data": {
      "text/plain": [
       "$breaks\n",
       "[1] -4 -3 -2 -1  0  1  2  3\n",
       "\n",
       "$counts\n",
       "[1]  1  0  7 31 25  9  3\n",
       "\n",
       "$density\n",
       "[1] 0.01315789 0.00000000 0.09210526 0.40789474 0.32894737 0.11842105 0.03947368\n",
       "\n",
       "$mids\n",
       "[1] -3.5 -2.5 -1.5 -0.5  0.5  1.5  2.5\n",
       "\n",
       "$xname\n",
       "[1] \"scale(ZapA$FluorCenter, center = TRUE, scale = TRUE)\"\n",
       "\n",
       "$equidist\n",
       "[1] TRUE\n",
       "\n",
       "attr(,\"class\")\n",
       "[1] \"histogram\""
      ]
     },
     "metadata": {},
     "output_type": "display_data"
    },
    {
     "data": {
      "image/png": "[encoded data removed]",
      "text/plain": [
       "Plot with title “Histogram of scale(ZapA$FluorCenter, center = TRUE, scale = TRUE)”"
      ]
     },
     "metadata": {
      "image/png": {
       "height": 420,
       "width": 420
      }
     },
     "output_type": "display_data"
    }
   ],
   "source": [
    "hist_volume <- hist(ZapA$Volume)\n",
    "hist_fluortotal <- hist(ZapA$FluorTotal)\n",
    "hist_fluorcenter <- hist(scale(ZapA$FluorCenter,center=TRUE,scale=TRUE))\n",
    "hist_volume\n",
    "hist_fluortotal\n",
    "hist_fluorcenter"
   ]
  },
  {
   "cell_type": "code",
   "execution_count": 8,
   "id": "8e1cd4fb-3195-4a44-a521-41e0626f3f77",
   "metadata": {
    "executionCancelledAt": null,
    "executionTime": 48,
    "lastExecutedAt": 1742683054263,
    "lastExecutedByKernel": "694974fc-002c-4004-9195-8d68c2cef626",
    "lastScheduledRunId": null,
    "lastSuccessfullyExecutedCode": "ZapA <- scale(ZapA, center = TRUE, scale = TRUE)",
    "vscode": {
     "languageId": "r"
    }
   },
   "outputs": [],
   "source": [
    "ZapA <- scale(ZapA, center = TRUE, scale = TRUE)"
   ]
  },
  {
   "cell_type": "code",
   "execution_count": 9,
   "id": "248376cc-0834-4f9c-81d5-76328173d405",
   "metadata": {
    "executionCancelledAt": null,
    "executionTime": 51,
    "lastExecutedAt": 1742683054314,
    "lastExecutedByKernel": "694974fc-002c-4004-9195-8d68c2cef626",
    "lastScheduledRunId": null,
    "lastSuccessfullyExecutedCode": "plot(FluorTotal ~ Volume, data = ZapA)",
    "vscode": {
     "languageId": "r"
    }
   },
   "outputs": [
    {
     "data": {
      "image/png": "[encoded data removed]",
      "text/plain": [
       "plot without title"
      ]
     },
     "metadata": {
      "image/png": {
       "height": 420,
       "width": 420
      }
     },
     "output_type": "display_data"
    }
   ],
   "source": [
    "plot(FluorTotal ~ Volume, data = ZapA)"
   ]
  },
  {
   "cell_type": "code",
   "execution_count": 10,
   "id": "fa60361f-66db-4e90-bba1-6f7ee4408738",
   "metadata": {
    "executionCancelledAt": null,
    "executionTime": 53,
    "lastExecutedAt": 1742683054367,
    "lastExecutedByKernel": "694974fc-002c-4004-9195-8d68c2cef626",
    "lastScheduledRunId": null,
    "lastSuccessfullyExecutedCode": "plot(FluorCenter ~ FluorTotal, data = ZapA)",
    "vscode": {
     "languageId": "r"
    }
   },
   "outputs": [
    {
     "data": {
      "image/png": "[encoded data removed]",
      "text/plain": [
       "plot without title"
      ]
     },
     "metadata": {
      "image/png": {
       "height": 420,
       "width": 420
      }
     },
     "output_type": "display_data"
    }
   ],
   "source": [
    "plot(FluorCenter ~ FluorTotal, data = ZapA)"
   ]
  },
  {
   "cell_type": "code",
   "execution_count": 11,
   "id": "d1f96fcb-e6b3-429e-87f3-3bc721fb4e00",
   "metadata": {
    "executionCancelledAt": null,
    "executionTime": 57,
    "lastExecutedAt": 1742683054424,
    "lastExecutedByKernel": "694974fc-002c-4004-9195-8d68c2cef626",
    "lastScheduledRunId": null,
    "lastSuccessfullyExecutedCode": "plot(FluorCenter ~ Volume, data = ZapA)",
    "vscode": {
     "languageId": "r"
    }
   },
   "outputs": [
    {
     "data": {
      "image/png": "[encoded data removed]",
      "text/plain": [
       "plot without title"
      ]
     },
     "metadata": {
      "image/png": {
       "height": 420,
       "width": 420
      }
     },
     "output_type": "display_data"
    }
   ],
   "source": [
    "plot(FluorCenter ~ Volume, data = ZapA)"
   ]
  },
  {
   "cell_type": "code",
   "execution_count": 12,
   "id": "48529813-ab4b-4556-a2b6-4cfab14d668f",
   "metadata": {
    "executionCancelledAt": null,
    "executionTime": 49,
    "lastExecutedAt": 1742683054473,
    "lastExecutedByKernel": "694974fc-002c-4004-9195-8d68c2cef626",
    "lastScheduledRunId": null,
    "lastSuccessfullyExecutedCode": "ZapA <- as_tibble(ZapA)",
    "vscode": {
     "languageId": "r"
    }
   },
   "outputs": [],
   "source": [
    "ZapA <- as_tibble(ZapA)"
   ]
  },
  {
   "cell_type": "code",
   "execution_count": 13,
   "id": "e40c6cb5-dfaa-4b13-babb-1f3e53632238",
   "metadata": {
    "executionCancelledAt": null,
    "executionTime": 52,
    "lastExecutedAt": 1742683054526,
    "lastExecutedByKernel": "694974fc-002c-4004-9195-8d68c2cef626",
    "lastScheduledRunId": null,
    "lastSuccessfullyExecutedCode": "fluortotal_volume_lm <- lm(Volume ~FluorTotal, data = ZapA)",
    "vscode": {
     "languageId": "r"
    }
   },
   "outputs": [],
   "source": [
    "fluortotal_volume_lm <- lm(Volume ~FluorTotal, data = ZapA)"
   ]
  },
  {
   "cell_type": "code",
   "execution_count": 14,
   "id": "68ac2611-5570-49c9-a5f6-232d971491f8",
   "metadata": {
    "collapsed": true,
    "executionCancelledAt": null,
    "executionTime": 49,
    "jupyter": {
     "outputs_hidden": true,
     "source_hidden": false
    },
    "lastExecutedAt": 1742683054575,
    "lastExecutedByKernel": "694974fc-002c-4004-9195-8d68c2cef626",
    "lastScheduledRunId": null,
    "lastSuccessfullyExecutedCode": "summary(fluortotal_volume_lm)",
    "vscode": {
     "languageId": "r"
    }
   },
   "outputs": [
    {
     "data": {
      "text/plain": [
       "\n",
       "Call:\n",
       "lm(formula = Volume ~ FluorTotal, data = ZapA)\n",
       "\n",
       "Residuals:\n",
       "     Min       1Q   Median       3Q      Max \n",
       "-2.66062 -0.53431 -0.07376  0.47834  1.88196 \n",
       "\n",
       "Coefficients:\n",
       "             Estimate Std. Error t value Pr(>|t|)    \n",
       "(Intercept) 1.016e-16  8.756e-02   0.000        1    \n",
       "FluorTotal  6.520e-01  8.815e-02   7.396 1.78e-10 ***\n",
       "---\n",
       "Signif. codes:  0 ‘***’ 0.001 ‘**’ 0.01 ‘*’ 0.05 ‘.’ 0.1 ‘ ’ 1\n",
       "\n",
       "Residual standard error: 0.7634 on 74 degrees of freedom\n",
       "Multiple R-squared:  0.4251,\tAdjusted R-squared:  0.4173 \n",
       "F-statistic: 54.71 on 1 and 74 DF,  p-value: 1.78e-10\n"
      ]
     },
     "metadata": {},
     "output_type": "display_data"
    }
   ],
   "source": [
    "summary(fluortotal_volume_lm)"
   ]
  },
  {
   "cell_type": "markdown",
   "id": "f4626422-53bd-461a-9310-187aec0dea1e",
   "metadata": {},
   "source": [
    "The results show that for every unit of volume concentration, 0.65 points increase for fluorescence units. with an error margin of +/-0.088. This is with a probability of p<0.05 which indicates that it is highly likely that total fluorescence is positively correlated/dependent on volume."
   ]
  },
  {
   "cell_type": "code",
   "execution_count": 15,
   "id": "98060fd9-63e0-4e72-9cf9-71adceb82067",
   "metadata": {
    "executionCancelledAt": null,
    "executionTime": 50,
    "lastExecutedAt": 1742683054625,
    "lastExecutedByKernel": "694974fc-002c-4004-9195-8d68c2cef626",
    "lastScheduledRunId": null,
    "lastSuccessfullyExecutedCode": "fluor_center_total.lm <- lm(Volume ~ FluorTotal + FluorCenter, data = ZapA)",
    "vscode": {
     "languageId": "r"
    }
   },
   "outputs": [],
   "source": [
    "fluor_center_total.lm <- lm(Volume ~ FluorTotal + FluorCenter, data = ZapA)"
   ]
  },
  {
   "cell_type": "code",
   "execution_count": 16,
   "id": "6f4aecf2-6f49-4245-90ba-309ae452ec95",
   "metadata": {
    "collapsed": true,
    "executionCancelledAt": null,
    "executionTime": 53,
    "jupyter": {
     "outputs_hidden": true,
     "source_hidden": false
    },
    "lastExecutedAt": 1742683054679,
    "lastExecutedByKernel": "694974fc-002c-4004-9195-8d68c2cef626",
    "lastScheduledRunId": null,
    "lastSuccessfullyExecutedCode": "summary(fluor_center_total.lm)",
    "vscode": {
     "languageId": "r"
    }
   },
   "outputs": [
    {
     "data": {
      "text/plain": [
       "\n",
       "Call:\n",
       "lm(formula = Volume ~ FluorTotal + FluorCenter, data = ZapA)\n",
       "\n",
       "Residuals:\n",
       "     Min       1Q   Median       3Q      Max \n",
       "-3.13120 -0.40972 -0.00255  0.48849  1.59264 \n",
       "\n",
       "Coefficients:\n",
       "              Estimate Std. Error t value Pr(>|t|)    \n",
       "(Intercept)  9.697e-17  8.328e-02   0.000  1.00000    \n",
       "FluorTotal   9.453e-01  1.296e-01   7.296 2.94e-10 ***\n",
       "FluorCenter -3.847e-01  1.296e-01  -2.969  0.00404 ** \n",
       "---\n",
       "Signif. codes:  0 ‘***’ 0.001 ‘**’ 0.01 ‘*’ 0.05 ‘.’ 0.1 ‘ ’ 1\n",
       "\n",
       "Residual standard error: 0.726 on 73 degrees of freedom\n",
       "Multiple R-squared:  0.487,\tAdjusted R-squared:  0.4729 \n",
       "F-statistic: 34.65 on 2 and 73 DF,  p-value: 2.626e-11\n"
      ]
     },
     "metadata": {},
     "output_type": "display_data"
    }
   ],
   "source": [
    "summary(fluor_center_total.lm)"
   ]
  },
  {
   "cell_type": "code",
   "execution_count": 17,
   "id": "fe7e68c4-7290-459c-9338-d7c2c27cb254",
   "metadata": {
    "collapsed": true,
    "executionCancelledAt": null,
    "executionTime": 47,
    "jupyter": {
     "outputs_hidden": true,
     "source_hidden": false
    },
    "lastExecutedAt": 1742683054726,
    "lastExecutedByKernel": "694974fc-002c-4004-9195-8d68c2cef626",
    "lastScheduledRunId": null,
    "lastSuccessfullyExecutedCode": "fluor_center.lm <- lm(Volume ~ FluorCenter, data=ZapA)\nsummary(fluor_center.lm)",
    "vscode": {
     "languageId": "r"
    }
   },
   "outputs": [
    {
     "data": {
      "text/plain": [
       "\n",
       "Call:\n",
       "lm(formula = Volume ~ FluorCenter, data = ZapA)\n",
       "\n",
       "Residuals:\n",
       "    Min      1Q  Median      3Q     Max \n",
       "-3.3290 -0.6644  0.0938  0.6524  2.5475 \n",
       "\n",
       "Coefficients:\n",
       "             Estimate Std. Error t value Pr(>|t|)   \n",
       "(Intercept) 8.617e-17  1.088e-01    0.00    1.000   \n",
       "FluorCenter 3.361e-01  1.095e-01    3.07    0.003 **\n",
       "---\n",
       "Signif. codes:  0 ‘***’ 0.001 ‘**’ 0.01 ‘*’ 0.05 ‘.’ 0.1 ‘ ’ 1\n",
       "\n",
       "Residual standard error: 0.9482 on 74 degrees of freedom\n",
       "Multiple R-squared:  0.1129,\tAdjusted R-squared:  0.101 \n",
       "F-statistic: 9.422 on 1 and 74 DF,  p-value: 0.002996\n"
      ]
     },
     "metadata": {},
     "output_type": "display_data"
    }
   ],
   "source": [
    "fluor_center.lm <- lm(Volume ~ FluorCenter, data=ZapA)\n",
    "summary(fluor_center.lm)"
   ]
  },
  {
   "cell_type": "code",
   "execution_count": 18,
   "id": "66236a40-bb17-469b-a072-b27d0ef9ac42",
   "metadata": {
    "collapsed": true,
    "executionCancelledAt": null,
    "executionTime": 51,
    "jupyter": {
     "outputs_hidden": true,
     "source_hidden": false
    },
    "lastExecutedAt": 1742683054778,
    "lastExecutedByKernel": "694974fc-002c-4004-9195-8d68c2cef626",
    "lastScheduledRunId": null,
    "lastSuccessfullyExecutedCode": "fluor.lm <- lm(FluorCenter ~ FluorTotal, data=ZapA)\nsummary(fluor.lm)",
    "vscode": {
     "languageId": "r"
    }
   },
   "outputs": [
    {
     "data": {
      "text/plain": [
       "\n",
       "Call:\n",
       "lm(formula = FluorCenter ~ FluorTotal, data = ZapA)\n",
       "\n",
       "Residuals:\n",
       "    Min      1Q  Median      3Q     Max \n",
       "-2.0507 -0.3614 -0.0522  0.4555  1.2625 \n",
       "\n",
       "Coefficients:\n",
       "              Estimate Std. Error t value Pr(>|t|)    \n",
       "(Intercept) -1.200e-17  7.472e-02    0.00        1    \n",
       "FluorTotal   7.625e-01  7.521e-02   10.14 1.22e-15 ***\n",
       "---\n",
       "Signif. codes:  0 ‘***’ 0.001 ‘**’ 0.01 ‘*’ 0.05 ‘.’ 0.1 ‘ ’ 1\n",
       "\n",
       "Residual standard error: 0.6514 on 74 degrees of freedom\n",
       "Multiple R-squared:  0.5814,\tAdjusted R-squared:  0.5757 \n",
       "F-statistic: 102.8 on 1 and 74 DF,  p-value: 1.222e-15\n"
      ]
     },
     "metadata": {},
     "output_type": "display_data"
    }
   ],
   "source": [
    "fluor.lm <- lm(FluorCenter ~ FluorTotal, data=ZapA)\n",
    "summary(fluor.lm)"
   ]
  }
 ],
 "metadata": {
  "editor": "DataLab",
  "kernelspec": {
   "display_name": "R",
   "language": "R",
   "name": "ir"
  },
  "language_info": {
   "codemirror_mode": "r",
   "file_extension": ".r",
   "mimetype": "text/x-r-source",
   "name": "R",
   "pygments_lexer": "r",
   "version": "4.4.0"
  }
 },
 "nbformat": 4,
 "nbformat_minor": 5
}
